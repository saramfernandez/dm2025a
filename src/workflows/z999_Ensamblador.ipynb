{
 "cells": [
  {
   "cell_type": "markdown",
   "id": "859d38e7-11c0-48bc-978a-d0e907f19ed1",
   "metadata": {
    "id": "859d38e7-11c0-48bc-978a-d0e907f19ed1"
   },
   "source": [
    "# 9 Ensamblador"
   ]
  },
  {
   "cell_type": "markdown",
   "id": "29c586e3-ed7d-44b2-92a0-f19669f06940",
   "metadata": {
    "id": "29c586e3-ed7d-44b2-92a0-f19669f06940"
   },
   "source": [
    "### 9.9 Objetivo"
   ]
  },
  {
   "cell_type": "markdown",
   "id": "6fff8327-10ed-4b11-bbee-f1c3f357d123",
   "metadata": {
    "id": "6fff8327-10ed-4b11-bbee-f1c3f357d123"
   },
   "source": [
    "Ensamblar modelos YA construidos\n",
    "Los modelos a ensamblar deben ser de la misma Modalidad\n",
    " * Este script está armado para Analista Sr\n",
    " * Este script corre unicamente en Google Cloud"
   ]
  },
  {
   "cell_type": "markdown",
   "id": "oSKhZRToy2F7",
   "metadata": {
    "id": "oSKhZRToy2F7"
   },
   "source": [
    "## 9.9.1  Workflow"
   ]
  },
  {
   "cell_type": "markdown",
   "id": "85171302-a2d6-48cb-b9b2-8d839a276859",
   "metadata": {
    "id": "85171302-a2d6-48cb-b9b2-8d839a276859"
   },
   "source": [
    "## Inicializacion"
   ]
  },
  {
   "cell_type": "markdown",
   "id": "eSU5vi00CPRS",
   "metadata": {
    "id": "eSU5vi00CPRS"
   },
   "source": [
    "Esta parte se debe correr con el runtime en lenguaje **R** Ir al menu, Runtime -> Change Runtime Type -> Runtime type -> R"
   ]
  },
  {
   "cell_type": "markdown",
   "id": "Zq8dySimCPRT",
   "metadata": {
    "id": "Zq8dySimCPRT"
   },
   "source": [
    "limpio el ambiente de R"
   ]
  },
  {
   "cell_type": "code",
   "execution_count": null,
   "id": "EL8wdHaUs59K",
   "metadata": {
    "id": "EL8wdHaUs59K"
   },
   "outputs": [],
   "source": [
    "format(Sys.time(), \"%a %b %d %X %Y\")"
   ]
  },
  {
   "cell_type": "code",
   "execution_count": null,
   "id": "1iE0U4_WCPRT",
   "metadata": {
    "id": "1iE0U4_WCPRT"
   },
   "outputs": [],
   "source": [
    "# limpio la memoria\n",
    "rm(list=ls(all.names=TRUE)) # remove all objects\n",
    "gc(full=TRUE, verbose=FALSE) # garbage collection"
   ]
  },
  {
   "cell_type": "code",
   "execution_count": null,
   "id": "atmIUEUNUrK5",
   "metadata": {
    "id": "atmIUEUNUrK5"
   },
   "outputs": [],
   "source": [
    "require(\"data.table\")"
   ]
  },
  {
   "cell_type": "markdown",
   "id": "BsxZ_ONyj9L_",
   "metadata": {
    "id": "BsxZ_ONyj9L_"
   },
   "source": [
    "#### Parametros\n",
    "\n",
    "Se debe poner en PARAM$modelos  la lista de modelos que se va a ensamblar, y deben ser por lo menos DOS"
   ]
  },
  {
   "cell_type": "code",
   "execution_count": null,
   "id": "peRH7ySLCPRV",
   "metadata": {
    "id": "peRH7ySLCPRV"
   },
   "outputs": [],
   "source": [
    "PARAM <- list()\n",
    "PARAM$modelos <- c( \"WF9505\", \"WF9504\", \"WF9503\" )\n",
    "\n",
    "PARAM$experimento <- 999001\n"
   ]
  },
  {
   "cell_type": "markdown",
   "id": "NoJbKo_4NG8A",
   "metadata": {
    "id": "NoJbKo_4NG8A"
   },
   "source": [
    "#### Carpeta del Experimento"
   ]
  },
  {
   "cell_type": "code",
   "execution_count": null,
   "id": "1gZD6ZMvCPRV",
   "metadata": {
    "id": "1gZD6ZMvCPRV"
   },
   "outputs": [],
   "source": [
    "# carpeta de trabajo\n",
    "\n",
    "setwd(\"~/buckets/b1/exp\")\n",
    "experimento_folder <- paste0(\"EN\", PARAM$experimento)\n",
    "dir.create(experimento_folder, showWarnings=FALSE)\n",
    "setwd( paste0(\"~/buckets/b1/exp/\", experimento_folder ))"
   ]
  },
  {
   "cell_type": "markdown",
   "id": "YVKBfLtkR8SO",
   "metadata": {
    "id": "YVKBfLtkR8SO"
   },
   "source": [
    "### 9.9.2   Ensamblado"
   ]
  },
  {
   "cell_type": "code",
   "execution_count": null,
   "id": "Xi0emX2ECPRV",
   "metadata": {
    "id": "Xi0emX2ECPRV"
   },
   "outputs": [],
   "source": [
    "# lectura del primer  predicion.txt\n",
    "tb_prediccion  <-  fread( paste0( \"~/buckets/b1/exp/\", PARAM$modelos[1], \"/prediccion.txt\" ) )\n",
    "tb_prediccion <- tb_prediccion[,c(\"numero_de_cliente\", \"prob\"), with=FALSE]\n",
    "setorder(tb_prediccion, numero_de_cliente)"
   ]
  },
  {
   "cell_type": "code",
   "execution_count": null,
   "id": "02673571-320a-49c7-bcb3-750c286141dc",
   "metadata": {},
   "outputs": [],
   "source": [
    "buenos <- 1 \n",
    "for( imodelo in seq(2, length(PARAM$modelos)) )\n",
    "{\n",
    "  tbl <- fread( paste0( \"~/buckets/b1/exp/\", PARAM$modelos[imodelo], \"/prediccion.txt\" ) )\n",
    "  if( nrow(tbl) == nrow( tb_prediccion ) )\n",
    "    {\n",
    "      setorder(tbl, numero_de_cliente)\n",
    "      tb_prediccion[, prob := prob + tbl$prob ]\n",
    "      buenos <- buenos +1 \n",
    "    }\n",
    "}\n",
    "\n",
    "# fui sumando, ahora divido por la cantidad para tener el promedio\n",
    "tb_prediccion[, prob := prob / buenos ]\n",
    "\n",
    "# grabo a disto, esto SI PUEDE ser reutilizado\n",
    "fwrite( tb_prediccion,\n",
    "  file = \"prediccion.txt\",\n",
    "  sep= \"\\t\"\n",
    ")"
   ]
  },
  {
   "cell_type": "markdown",
   "id": "8412d838-5bd5-454e-b3a9-5eaa18d80a50",
   "metadata": {
    "id": "8412d838-5bd5-454e-b3a9-5eaa18d80a50"
   },
   "source": [
    "### 9.9.3 Kaggle Competition Submit"
   ]
  },
  {
   "cell_type": "markdown",
   "id": "55970cb6-856a-46e3-a893-7f36b8352b8e",
   "metadata": {
    "id": "55970cb6-856a-46e3-a893-7f36b8352b8e"
   },
   "source": [
    "Genero las salidas y hago los submits a Kaggles"
   ]
  },
  {
   "cell_type": "code",
   "execution_count": null,
   "id": "e5fa2439-b0e9-49e0-a861-71d7315d6e1c",
   "metadata": {
    "id": "e5fa2439-b0e9-49e0-a861-71d7315d6e1c"
   },
   "outputs": [],
   "source": [
    "# genero archivos con los  \"envios\" mejores\n",
    "# suba TODOS los archivos a Kaggle\n",
    "\n",
    "PARAM$kaggle$competencia <- \"data-mining-analista-sr-2025-a\"\n",
    "PARAM$kaggle$cortes <- seq(10500, 11500, by = 500)\n",
    "\n",
    "# ordeno por probabilidad descendente\n",
    "setorder(tb_prediccion, -prob)\n",
    "\n",
    "dir.create(\"kaggle\")\n",
    "\n",
    "for (envios in PARAM$kaggle$cortes) {\n",
    "\n",
    "  tb_prediccion[, Predicted := 0L] # seteo inicial a 0\n",
    "  tb_prediccion[1:envios, Predicted := 1L] # marclo los primeros\n",
    "\n",
    "  archivo_kaggle <- paste0(\n",
    "    \"./kaggle/EN\",\n",
    "    PARAM$experimento, \"_\",\n",
    "    envios, \".csv\")\n",
    "\n",
    "  # grabo el archivo\n",
    "  fwrite(tb_prediccion[, list(numero_de_cliente, Predicted)],\n",
    "    file= archivo_kaggle,\n",
    "    sep= \",\"\n",
    "  )\n",
    "\n",
    "  # subida a Kaggle, armo la linea de comando\n",
    "  comando <- \"kaggle competitions submit\"\n",
    "  competencia <- paste(\"-c\", PARAM$kaggle$competencia)\n",
    "  arch <- paste( \"-f\", archivo_kaggle)\n",
    "\n",
    "  mensaje <- paste0(\"-m 'envios=\", envios, \"  Ensemble\", \"'\" )\n",
    "\n",
    "  linea <- paste( comando, competencia, arch, mensaje)\n",
    "\n",
    "  salida <- system(linea, intern=TRUE) # el submit a Kaggle\n",
    "  cat(salida, \"\\n\")\n",
    "}"
   ]
  },
  {
   "cell_type": "code",
   "execution_count": null,
   "id": "1b615a62-20cc-4e95-9af2-6b6db38d5efb",
   "metadata": {
    "id": "1b615a62-20cc-4e95-9af2-6b6db38d5efb"
   },
   "outputs": [],
   "source": [
    "format(Sys.time(), \"%a %b %d %X %Y\")"
   ]
  }
 ],
 "metadata": {
  "colab": {
   "provenance": []
  },
  "kernelspec": {
   "display_name": "R",
   "language": "R",
   "name": "ir"
  },
  "language_info": {
   "codemirror_mode": "r",
   "file_extension": ".r",
   "mimetype": "text/x-r-source",
   "name": "R",
   "pygments_lexer": "r",
   "version": "4.4.3"
  }
 },
 "nbformat": 4,
 "nbformat_minor": 5
}
